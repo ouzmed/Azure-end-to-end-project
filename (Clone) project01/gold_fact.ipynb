{
 "cells": [
  {
   "cell_type": "markdown",
   "metadata": {
    "application/vnd.databricks.v1+cell": {
     "cellMetadata": {},
     "inputWidgets": {},
     "nuid": "a6d808ea-10c9-409a-846c-431ab2235c84",
     "showTitle": false,
     "tableResultSettingsMap": {},
     "title": ""
    }
   },
   "source": [
    "# CREATING A FACT TABLE"
   ]
  },
  {
   "cell_type": "markdown",
   "metadata": {
    "application/vnd.databricks.v1+cell": {
     "cellMetadata": {},
     "inputWidgets": {},
     "nuid": "455ac31b-2fae-4d42-bd98-a044493bc901",
     "showTitle": false,
     "tableResultSettingsMap": {},
     "title": ""
    }
   },
   "source": [
    "**Reading the silver table**"
   ]
  },
  {
   "cell_type": "code",
   "execution_count": 0,
   "metadata": {
    "application/vnd.databricks.v1+cell": {
     "cellMetadata": {
      "byteLimit": 2048000,
      "rowLimit": 10000
     },
     "inputWidgets": {},
     "nuid": "9d73bc2c-dd36-41be-b9bc-8ff55f62af89",
     "showTitle": false,
     "tableResultSettingsMap": {},
     "title": ""
    }
   },
   "outputs": [],
   "source": [
    "df_silver = spark.sql(\"select * from parquet.`abfss://silver@storageadlsgen3.dfs.core.windows.net/carsales`\")\n",
    "display(df_silver)"
   ]
  },
  {
   "cell_type": "code",
   "execution_count": 0,
   "metadata": {
    "application/vnd.databricks.v1+cell": {
     "cellMetadata": {
      "byteLimit": 2048000,
      "rowLimit": 10000
     },
     "inputWidgets": {},
     "nuid": "351cacb0-f9ee-4d1a-a600-074fb86444ef",
     "showTitle": false,
     "tableResultSettingsMap": {},
     "title": ""
    }
   },
   "outputs": [],
   "source": [
    "df_model = spark.table(\"project01.gold.dim_model\")\n",
    "df_branch = spark.table(\"project01.gold.dim_branch\")\n",
    "df_dealer = spark.table(\"project01.gold.dim_dealer\")\n",
    "df_date = spark.table(\"project01.gold.dim_date\")"
   ]
  },
  {
   "cell_type": "code",
   "execution_count": 0,
   "metadata": {
    "application/vnd.databricks.v1+cell": {
     "cellMetadata": {
      "byteLimit": 2048000,
      "rowLimit": 10000
     },
     "inputWidgets": {},
     "nuid": "7e168c5f-5e00-4f95-b0f6-2842fba989d8",
     "showTitle": false,
     "tableResultSettingsMap": {},
     "title": ""
    }
   },
   "outputs": [],
   "source": [
    "df_fact = df_silver.join(df_model, df_silver['Model_ID'] == df_model['Model_ID'])\\\n",
    "                     .join(df_branch, df_silver['Branch_ID'] == df_branch['Branch_ID'])\\\n",
    "                     .join(df_dealer, df_silver['Dealer_ID'] == df_dealer['Dealer_ID'])\\\n",
    "                     .join(df_date, df_silver['Date_ID'] == df_date['Date_ID'])\\\n",
    "                     .select(df_silver['Revenue'], df_silver['Units_Sold'], df_silver['price'], df_model['dim_model_key'], df_branch['dim_branch_key'], df_dealer['dim_dealer_key'], df_date['dim_date_key'])"
   ]
  },
  {
   "cell_type": "code",
   "execution_count": 0,
   "metadata": {
    "application/vnd.databricks.v1+cell": {
     "cellMetadata": {
      "byteLimit": 2048000,
      "rowLimit": 10000
     },
     "inputWidgets": {},
     "nuid": "bf8cb145-a930-42d7-ae28-ece487c903b6",
     "showTitle": false,
     "tableResultSettingsMap": {},
     "title": ""
    }
   },
   "outputs": [],
   "source": [
    "display(df_fact)"
   ]
  },
  {
   "cell_type": "markdown",
   "metadata": {
    "application/vnd.databricks.v1+cell": {
     "cellMetadata": {},
     "inputWidgets": {},
     "nuid": "7ce193bc-6824-47a4-9a4b-a1c1fa825524",
     "showTitle": false,
     "tableResultSettingsMap": {},
     "title": ""
    }
   },
   "source": [
    "**Merge statement using sql**"
   ]
  },
  {
   "cell_type": "code",
   "execution_count": 0,
   "metadata": {
    "application/vnd.databricks.v1+cell": {
     "cellMetadata": {
      "byteLimit": 2048000,
      "rowLimit": 10000
     },
     "inputWidgets": {},
     "nuid": "b386a2bc-ad73-47e2-b42a-74fc3f000a52",
     "showTitle": false,
     "tableResultSettingsMap": {},
     "title": ""
    }
   },
   "outputs": [],
   "source": [
    "if spark.catalog.tableExists(\"project01.gold.factsales\"):\n",
    "    df_fact.createOrReplaceTempView(\"factsales_view\")\n",
    "    merge_statement = \"\"\" MERGE INTO project01.gold.factsales as t\n",
    "                          USING factsales_view as s\n",
    "                          ON t.dim_model_key = s.dim_model_key AND t.dim_branch_key = s.dim_branch_key AND t.dim_dealer_key = s.dim_dealer_key\n",
    "                          WHEN MATCHED THEN UPDATE SET *\n",
    "                          WHEN NOT MATCHED THEN INSERT *\n",
    "\n",
    "    \"\"\"\n",
    "    spark.sql(merge_statement)\n",
    "else:\n",
    "    df_fact.write\\\n",
    "           .format(\"delta\")\\\n",
    "           .mode(\"overwrite\")\\\n",
    "           .option(\"path\",\"abfss://gold@storageadlsgen3.dfs.core.windows.net/factsales\")\\\n",
    "           .saveAsTable(\"project01.gold.factsales\")"
   ]
  },
  {
   "cell_type": "code",
   "execution_count": 0,
   "metadata": {
    "application/vnd.databricks.v1+cell": {
     "cellMetadata": {
      "byteLimit": 2048000,
      "implicitDf": true,
      "rowLimit": 10000
     },
     "inputWidgets": {},
     "nuid": "1dfd0b6b-9038-4bc1-883b-3528d3dd4300",
     "showTitle": false,
     "tableResultSettingsMap": {},
     "title": ""
    }
   },
   "outputs": [],
   "source": [
    "%sql\n",
    "select * from project01.gold.factsales"
   ]
  },
  {
   "cell_type": "markdown",
   "metadata": {
    "application/vnd.databricks.v1+cell": {
     "cellMetadata": {},
     "inputWidgets": {},
     "nuid": "cc227141-8a1b-4f30-b702-bfe0afbfc5df",
     "showTitle": false,
     "tableResultSettingsMap": {},
     "title": ""
    }
   },
   "source": [
    "**Merge statement using Python**"
   ]
  },
  {
   "cell_type": "code",
   "execution_count": 0,
   "metadata": {
    "application/vnd.databricks.v1+cell": {
     "cellMetadata": {
      "byteLimit": 2048000,
      "rowLimit": 10000
     },
     "inputWidgets": {},
     "nuid": "fd62ab0c-99c4-493b-a0e3-8a7c772cae1b",
     "showTitle": false,
     "tableResultSettingsMap": {},
     "title": ""
    }
   },
   "outputs": [],
   "source": [
    "from delta.tables import DeltaTable"
   ]
  },
  {
   "cell_type": "code",
   "execution_count": 0,
   "metadata": {
    "application/vnd.databricks.v1+cell": {
     "cellMetadata": {
      "byteLimit": 2048000,
      "rowLimit": 10000
     },
     "inputWidgets": {},
     "nuid": "57e7e29b-1846-4f18-bd7e-f37fa471459c",
     "showTitle": false,
     "tableResultSettingsMap": {},
     "title": ""
    }
   },
   "outputs": [],
   "source": [
    "if spark.catalog.tableExists(\"project01.gold.factsales\"):\n",
    "    delta_tb = DeltaTable.forPath(spark, \"abfss://gold@storageadlsgen3.dfs.core.windows.net/factsales\")\n",
    "    delta_tb.alias(\"t\").merge(df_fact.alias(\"s\"), \"t.dim_model_key = s.dim_model_key AND t.dim_branch_key = s.dim_branch_key AND t.dim_dealer_key = s.dim_dealer_key\")\\\n",
    "        .whenMatchedUpdateAll()\\\n",
    "        .whenNotMatchedInsertAll()\\\n",
    "        .execute()\n",
    "else:\n",
    "    df_fact.write\\\n",
    "           .format(\"delta\")\\\n",
    "           .mode(\"overwrite\")\\\n",
    "           .option(\"path\", \"abfss://gold@storageadlsgen3.dfs.core.windows.net/factsales\")\\\n",
    "           .option(\"mergeSchema\", \"true\")\\\n",
    "           .saveAsTable(\"project01.gold.factsales\")"
   ]
  },
  {
   "cell_type": "code",
   "execution_count": 0,
   "metadata": {
    "application/vnd.databricks.v1+cell": {
     "cellMetadata": {
      "byteLimit": 2048000,
      "implicitDf": true,
      "rowLimit": 10000
     },
     "inputWidgets": {},
     "nuid": "f3692c99-956d-4841-b49f-c8ff5ae6d913",
     "showTitle": false,
     "tableResultSettingsMap": {},
     "title": ""
    }
   },
   "outputs": [],
   "source": [
    "%sql\n",
    "select * from project01.gold.factsales"
   ]
  }
 ],
 "metadata": {
  "application/vnd.databricks.v1+notebook": {
   "computePreferences": null,
   "dashboards": [],
   "environmentMetadata": {
    "base_environment": "",
    "environment_version": "2"
   },
   "language": "python",
   "notebookMetadata": {
    "mostRecentlyExecutedCommandWithImplicitDF": {
     "commandId": 1818890610699954,
     "dataframes": [
      "_sqldf"
     ]
    },
    "pythonIndentUnit": 4
   },
   "notebookName": "gold_fact",
   "widgets": {}
  },
  "language_info": {
   "name": "python"
  }
 },
 "nbformat": 4,
 "nbformat_minor": 0
}
